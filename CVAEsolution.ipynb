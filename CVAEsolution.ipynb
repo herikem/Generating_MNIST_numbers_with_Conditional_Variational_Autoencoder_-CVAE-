{
 "cells": [
  {
   "cell_type": "code",
   "execution_count": 1,
   "metadata": {},
   "outputs": [
    {
     "name": "stderr",
     "output_type": "stream",
     "text": [
      "2024-04-26 14:32:00.960647: I tensorflow/core/platform/cpu_feature_guard.cc:182] This TensorFlow binary is optimized to use available CPU instructions in performance-critical operations.\n",
      "To enable the following instructions: AVX2 FMA, in other operations, rebuild TensorFlow with the appropriate compiler flags.\n",
      "2024-04-26 14:32:03.663884: W tensorflow/compiler/tf2tensorrt/utils/py_utils.cc:38] TF-TRT Warning: Could not find TensorRT\n"
     ]
    }
   ],
   "source": [
    "import numpy as np \n",
    "import matplotlib.pyplot as plt\n",
    "import tensorflow as tf\n",
    "from tensorflow.keras.datasets import mnist\n",
    "from tensorflow import keras \n",
    "import keras.backend as K\n",
    "from tensorflow.keras.callbacks import  EarlyStopping\n",
    "from tensorflow.keras.layers import Input, Dense, Lambda\n",
    "from tensorflow.keras.layers import Flatten, concatenate\n",
    "from tensorflow.keras.layers import BatchNormalization, Dropout, Reshape\n",
    "from keras.utils.vis_utils import plot_model\n",
    "import re"
   ]
  },
  {
   "cell_type": "code",
   "execution_count": 53,
   "metadata": {},
   "outputs": [],
   "source": [
    "hidden_dim = 2\n",
    "batch_size = 100\n",
    "num_classes = 10 "
   ]
  },
  {
   "cell_type": "code",
   "execution_count": 54,
   "metadata": {},
   "outputs": [],
   "source": [
    "(x_train, y_train), (x_test, y_test) = mnist.load_data()\n",
    "\n",
    "x_train = x_train / 255\n",
    "x_test = x_test / 255\n",
    "\n",
    "x_train = np.reshape(x_train, (len(x_train), 28, 28, 1))\n",
    "x_test = np.reshape(x_test, (len(x_test), 28, 28, 1))\n",
    "\n",
    "y_train_cat = keras.utils.to_categorical(y_train, num_classes)\n",
    "y_test_cat = keras.utils.to_categorical(y_test, num_classes)"
   ]
  },
  {
   "cell_type": "code",
   "execution_count": 55,
   "metadata": {},
   "outputs": [],
   "source": [
    "def dropout_and_batchnorm(x):\n",
    "    return Dropout(0.3)(BatchNormalization()(x))\n",
    "\n",
    "def noiser(args):\n",
    "    global mean, log_var\n",
    "    mean, log_var = args\n",
    "    N = K.random_normal(shape=(batch_size, hidden_dim), mean=0., stddev=1.0)\n",
    "    return K.exp(log_var / 2) * N + mean"
   ]
  },
  {
   "cell_type": "code",
   "execution_count": 115,
   "metadata": {},
   "outputs": [],
   "source": [
    "# Encoder\n",
    "\n",
    "input_image = Input(batch_shape=(batch_size, 28, 28, 1))\n",
    "fl = Flatten()(input_image)\n",
    "lb = Input(shape=(num_classes,))\n",
    "x = concatenate([fl, lb])\n",
    "x = Dense(256, activation=\"relu\")(x)\n",
    "x = dropout_and_batchnorm(x)\n",
    "x = Dense(128, activation=\"relu\")(x)\n",
    "x = dropout_and_batchnorm(x)"
   ]
  },
  {
   "cell_type": "code",
   "execution_count": 116,
   "metadata": {},
   "outputs": [],
   "source": [
    "# Latent Space\n",
    "mean = Dense(hidden_dim)(x)\n",
    "log_var = Dense(hidden_dim)(x)\n",
    "h = Lambda(noiser, output_shape=(hidden_dim,), name=\"latent_space\")([mean, log_var])"
   ]
  },
  {
   "cell_type": "code",
   "execution_count": 117,
   "metadata": {},
   "outputs": [],
   "source": [
    "# Decoder\n",
    "input_decoder = Input(shape=(hidden_dim,))\n",
    "lb_decoder = Input(shape=(num_classes,))\n",
    "d = concatenate([input_decoder,lb_decoder])\n",
    "d = Dense(128, activation=\"relu\")(d)\n",
    "d = dropout_and_batchnorm(d)\n",
    "d = Dense(256, activation=\"relu\")(d)\n",
    "d = dropout_and_batchnorm(d)\n",
    "d = Dense(28*28, activation=\"sigmoid\")(d)\n",
    "decoded = Reshape((28, 28, 1))(d)"
   ]
  },
  {
   "cell_type": "code",
   "execution_count": 118,
   "metadata": {},
   "outputs": [],
   "source": [
    "def vae_loss(x, y):\n",
    "    x = K.reshape(x, shape=(batch_size, 28*28))\n",
    "    y = K.reshape(y, shape=(batch_size, 28*28))\n",
    "    loss = K.sum(K.square(x-y), axis=-1)\n",
    "    kl_loss = -0.5 * K.sum(1 + log_var - K.square(mean) - K.exp(log_var), axis=-1)\n",
    "    return loss + kl_loss"
   ]
  },
  {
   "cell_type": "code",
   "execution_count": 119,
   "metadata": {},
   "outputs": [
    {
     "name": "stdout",
     "output_type": "stream",
     "text": [
      "Model: \"cvae\"\n",
      "__________________________________________________________________________________________________\n",
      " Layer (type)                   Output Shape         Param #     Connected to                     \n",
      "==================================================================================================\n",
      " input_49 (InputLayer)          [(100, 28, 28, 1)]   0           []                               \n",
      "                                                                                                  \n",
      " input_50 (InputLayer)          [(None, 10)]         0           []                               \n",
      "                                                                                                  \n",
      " encoder (Functional)           (100, 2)             238468      ['input_49[0][0]',               \n",
      "                                                                  'input_50[0][0]']               \n",
      "                                                                                                  \n",
      " input_52 (InputLayer)          [(None, 10)]         0           []                               \n",
      "                                                                                                  \n",
      " decoder (Functional)           (None, 28, 28, 1)    237712      ['encoder[0][0]',                \n",
      "                                                                  'input_52[0][0]']               \n",
      "                                                                                                  \n",
      "==================================================================================================\n",
      "Total params: 476,180\n",
      "Trainable params: 474,644\n",
      "Non-trainable params: 1,536\n",
      "__________________________________________________________________________________________________\n"
     ]
    }
   ],
   "source": [
    "encoder = keras.Model([input_image, lb], h, name=\"encoder\")\n",
    "decoder = keras.Model([input_decoder, lb_decoder], decoded, name=\"decoder\")\n",
    "\n",
    "cvae = keras.Model(inputs = [input_image, lb, lb_decoder], \n",
    "                   outputs = decoder([encoder([input_image,lb]), lb_decoder]),\n",
    "                   name=\"cvae\")\n",
    "\n",
    "cvae.compile(optimizer=\"adam\", loss=vae_loss)\n",
    "\n",
    "plot_model(encoder, to_file='encoder_plot.png', show_shapes=True, show_layer_names=True)\n",
    "plot_model(decoder, to_file='decoder_plot.png', show_shapes=True, show_layer_names=True)\n",
    "\n",
    "cvae.summary()"
   ]
  },
  {
   "cell_type": "code",
   "execution_count": 120,
   "metadata": {},
   "outputs": [
    {
     "name": "stdout",
     "output_type": "stream",
     "text": [
      "Epoch 1/15\n",
      "600/600 [==============================] - 10s 11ms/step - loss: 71.7067\n",
      "Epoch 2/15\n",
      "600/600 [==============================] - 7s 11ms/step - loss: 41.1619\n",
      "Epoch 3/15\n",
      "600/600 [==============================] - 6s 10ms/step - loss: 38.3103\n",
      "Epoch 4/15\n",
      "600/600 [==============================] - 7s 11ms/step - loss: 36.8511\n",
      "Epoch 5/15\n",
      "600/600 [==============================] - 6s 10ms/step - loss: 36.0792\n",
      "Epoch 6/15\n",
      "600/600 [==============================] - 7s 11ms/step - loss: 35.5522\n",
      "Epoch 7/15\n",
      "600/600 [==============================] - 6s 10ms/step - loss: 35.2139\n",
      "Epoch 8/15\n",
      "600/600 [==============================] - 6s 10ms/step - loss: 34.9437\n",
      "Epoch 9/15\n",
      "600/600 [==============================] - 6s 10ms/step - loss: 34.6332\n",
      "Epoch 10/15\n",
      "600/600 [==============================] - 6s 11ms/step - loss: 34.4880\n",
      "Epoch 11/15\n",
      "600/600 [==============================] - 7s 11ms/step - loss: 34.2811\n",
      "Epoch 12/15\n",
      "600/600 [==============================] - 6s 10ms/step - loss: 34.1485\n",
      "Epoch 13/15\n",
      "600/600 [==============================] - 7s 11ms/step - loss: 34.0164\n",
      "Epoch 14/15\n",
      "600/600 [==============================] - 7s 11ms/step - loss: 33.9257\n",
      "Epoch 15/15\n",
      "600/600 [==============================] - 6s 10ms/step - loss: 33.7720\n"
     ]
    },
    {
     "data": {
      "text/plain": [
       "<keras.callbacks.History at 0x7f67e2382a70>"
      ]
     },
     "execution_count": 120,
     "metadata": {},
     "output_type": "execute_result"
    }
   ],
   "source": [
    "epochs = 25\n",
    "\n",
    "es = EarlyStopping(monitor='loss', mode='min', verbose=1, patience=10)\n",
    "\n",
    "cvae.fit(\n",
    "    [x_train, y_train_cat, y_train_cat], x_train,\n",
    "    epochs=epochs,\n",
    "    batch_size=batch_size,\n",
    "    shuffle=True\n",
    ")"
   ]
  },
  {
   "cell_type": "code",
   "execution_count": 121,
   "metadata": {},
   "outputs": [
    {
     "name": "stdout",
     "output_type": "stream",
     "text": [
      "100/100 [==============================] - 0s 3ms/step\n"
     ]
    },
    {
     "data": {
      "text/plain": [
       "<matplotlib.collections.PathCollection at 0x7f67e28cb220>"
      ]
     },
     "execution_count": 121,
     "metadata": {},
     "output_type": "execute_result"
    },
    {
     "data": {
      "image/png": "[encoded data removed]",
      "text/plain": [
       "<Figure size 640x480 with 1 Axes>"
      ]
     },
     "metadata": {},
     "output_type": "display_data"
    }
   ],
   "source": [
    "lb = lb_dec = y_test_cat\n",
    "h = encoder.predict([x_test, lb], batch_size=batch_size)\n",
    "plt.scatter(h[:, 0], h[:, 1])"
   ]
  },
  {
   "cell_type": "code",
   "execution_count": null,
   "metadata": {},
   "outputs": [],
   "source": []
  },
  {
   "cell_type": "code",
   "execution_count": 1,
   "metadata": {},
   "outputs": [
    {
     "ename": "NameError",
     "evalue": "name 'np' is not defined",
     "output_type": "error",
     "traceback": [
      "\u001b[0;31m---------------------------------------------------------------------------\u001b[0m",
      "\u001b[0;31mNameError\u001b[0m                                 Traceback (most recent call last)",
      "Cell \u001b[0;32mIn[1], line 6\u001b[0m\n\u001b[1;32m      4\u001b[0m n\u001b[38;5;241m=\u001b[39m\u001b[38;5;241m4\u001b[39m\n\u001b[1;32m      5\u001b[0m total\u001b[38;5;241m=\u001b[39m\u001b[38;5;241m2\u001b[39m\u001b[38;5;241m*\u001b[39mn\u001b[38;5;241m+\u001b[39m\u001b[38;5;241m1\u001b[39m\n\u001b[0;32m----> 6\u001b[0m input_lbl \u001b[38;5;241m=\u001b[39m \u001b[43mnp\u001b[49m\u001b[38;5;241m.\u001b[39mzeros((\u001b[38;5;241m1\u001b[39m, num_classes))\n\u001b[1;32m      7\u001b[0m input_lbl[\u001b[38;5;241m0\u001b[39m, prompt] \u001b[38;5;241m=\u001b[39m \u001b[38;5;241m1\u001b[39m\n\u001b[1;32m      8\u001b[0m h \u001b[38;5;241m=\u001b[39m np\u001b[38;5;241m.\u001b[39mzeros((\u001b[38;5;241m1\u001b[39m, hidden_dim))\n",
      "\u001b[0;31mNameError\u001b[0m: name 'np' is not defined"
     ]
    }
   ],
   "source": [
    "prompt=5\n",
    "\n",
    "num=1\n",
    "n=4\n",
    "total=2*n+1\n",
    "input_lbl = np.zeros((1, num_classes))\n",
    "input_lbl[0, prompt] = 1\n",
    "h = np.zeros((1, hidden_dim))\n",
    "\n",
    "plt.figure(figsize=(total, total))\n",
    "for i in range(-n, n+1):\n",
    "    for j in range(-n, n+1):\n",
    "        ax = plt.subplot(total, total, num)\n",
    "        num += 1\n",
    "        h[0, :] = [1*i/n, 1*j/n]\n",
    "        img = decoder.predict([h, input_lbl])\n",
    "        plt.imshow(img.squeeze(), cmap='gray')\n",
    "        ax.get_xaxis().set_visible(False)\n",
    "        ax.get_yaxis().set_visible(False)\n",
    "plt.show()"
   ]
  },
  {
   "cell_type": "code",
   "execution_count": 111,
   "metadata": {},
   "outputs": [
    {
     "name": "stdout",
     "output_type": "stream",
     "text": [
      "[name: \"/device:CPU:0\"\n",
      "device_type: \"CPU\"\n",
      "memory_limit: 268435456\n",
      "locality {\n",
      "}\n",
      "incarnation: 4548689261966497866\n",
      "xla_global_id: -1\n",
      ", name: \"/device:GPU:0\"\n",
      "device_type: \"GPU\"\n",
      "memory_limit: 2357670708\n",
      "locality {\n",
      "  bus_id: 1\n",
      "  links {\n",
      "  }\n",
      "}\n",
      "incarnation: 8332774607042053429\n",
      "physical_device_desc: \"device: 0, name: NVIDIA GeForce GTX 1650, pci bus id: 0000:01:00.0, compute capability: 7.5\"\n",
      "xla_global_id: 416903419\n",
      "]\n"
     ]
    },
    {
     "name": "stderr",
     "output_type": "stream",
     "text": [
      "2024-04-26 00:41:58.344752: I tensorflow/compiler/xla/stream_executor/cuda/cuda_gpu_executor.cc:982] could not open file to read NUMA node: /sys/bus/pci/devices/0000:01:00.0/numa_node\n",
      "Your kernel may have been built without NUMA support.\n",
      "2024-04-26 00:41:58.344864: I tensorflow/compiler/xla/stream_executor/cuda/cuda_gpu_executor.cc:982] could not open file to read NUMA node: /sys/bus/pci/devices/0000:01:00.0/numa_node\n",
      "Your kernel may have been built without NUMA support.\n",
      "2024-04-26 00:41:58.344892: I tensorflow/compiler/xla/stream_executor/cuda/cuda_gpu_executor.cc:982] could not open file to read NUMA node: /sys/bus/pci/devices/0000:01:00.0/numa_node\n",
      "Your kernel may have been built without NUMA support.\n",
      "2024-04-26 00:41:58.345142: I tensorflow/compiler/xla/stream_executor/cuda/cuda_gpu_executor.cc:982] could not open file to read NUMA node: /sys/bus/pci/devices/0000:01:00.0/numa_node\n",
      "Your kernel may have been built without NUMA support.\n",
      "2024-04-26 00:41:58.345156: I tensorflow/core/common_runtime/gpu/gpu_device.cc:1722] Could not identify NUMA node of platform GPU id 0, defaulting to 0.  Your kernel may not have been built with NUMA support.\n",
      "2024-04-26 00:41:58.345192: I tensorflow/compiler/xla/stream_executor/cuda/cuda_gpu_executor.cc:982] could not open file to read NUMA node: /sys/bus/pci/devices/0000:01:00.0/numa_node\n",
      "Your kernel may have been built without NUMA support.\n",
      "2024-04-26 00:41:58.345217: I tensorflow/core/common_runtime/gpu/gpu_device.cc:1635] Created device /device:GPU:0 with 2248 MB memory:  -> device: 0, name: NVIDIA GeForce GTX 1650, pci bus id: 0000:01:00.0, compute capability: 7.5\n"
     ]
    }
   ],
   "source": [
    "from tensorflow.python.client import device_lib\n",
    "print(device_lib.list_local_devices())"
   ]
  },
  {
   "cell_type": "code",
   "execution_count": null,
   "metadata": {},
   "outputs": [],
   "source": []
  }
 ],
 "metadata": {
  "kernelspec": {
   "display_name": "Python 3 (ipykernel)",
   "language": "python",
   "name": "python3"
  },
  "language_info": {
   "codemirror_mode": {
    "name": "ipython",
    "version": 3
   },
   "file_extension": ".py",
   "mimetype": "text/x-python",
   "name": "python",
   "nbconvert_exporter": "python",
   "pygments_lexer": "ipython3",
   "version": "3.10.12"
  }
 },
 "nbformat": 4,
 "nbformat_minor": 4
}
